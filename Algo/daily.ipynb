{
 "cells": [
  {
   "cell_type": "markdown",
   "metadata": {},
   "source": [
    "9/30 2024 leetcode daily  \n",
    "\n",
    "stack "
   ]
  },
  {
   "cell_type": "code",
   "execution_count": null,
   "metadata": {},
   "outputs": [],
   "source": [
    "# to track the increments, we could use an array to track them\n",
    "# whenever an item is popped, we clear the current index's prefix and move it to\n",
    "# indx-1 by adding it. this way, whenever we pop, we always have the update to date\n",
    "# increments.\n",
    "#\n",
    "\n",
    "class CustomStack:\n",
    "\n",
    "    def __init__(self, maxSize: int):\n",
    "        self.prefix = [0] * maxSize # tracks the increments\n",
    "        self.data = []\n",
    "        self.size = maxSize\n",
    "        return\n",
    "\n",
    "    def push(self, x: int) -> None:\n",
    "        if len(self.data) < self.size:\n",
    "            self.data.append(x)\n",
    "        return\n",
    "\n",
    "    def pop(self) -> int:\n",
    "        if not self.data:\n",
    "            self.prefix = [0] * self.size\n",
    "            return -1\n",
    "        else: \n",
    "            indx = len(self.data) - 1\n",
    "            cur = self.data.pop()\n",
    "            offset = self.prefix[indx]\n",
    "\n",
    "            #update the increment tracking.\n",
    "            if indx > 0:\n",
    "                self.prefix[indx - 1] += self.prefix[indx]\n",
    "                self.prefix[indx] = 0\n",
    "            else:\n",
    "                self.prefix[0] = 0\n",
    "\n",
    "            # print(\"data\", self.data)\n",
    "            # print(\"prefix\", self.prefix)\n",
    "            return cur + offset\n",
    "\n",
    "    def increment(self, k: int, val: int) -> None:\n",
    "        indx = min(k,len(self.data))\n",
    "        if indx > 0: # skip index == 0, python treats -1 index as the last index\n",
    "            self.prefix[indx - 1] += val\n",
    "        return \n",
    "        \n",
    "\n",
    "\n",
    "\n",
    "# Your CustomStack object will be instantiated and called as such:\n",
    "# obj = CustomStack(maxSize)\n",
    "# obj.push(x)\n",
    "# param_2 = obj.pop()\n",
    "# obj.increment(k,val)"
   ]
  },
  {
   "cell_type": "code",
   "execution_count": null,
   "metadata": {},
   "outputs": [],
   "source": [
    "# LC 921\n",
    "#  min count to complete parentheses pairs.\n",
    "# instead of using stack, optimize using counter.\n",
    "class Solution:\n",
    "    def minAddToMakeValid(self, s: str) -> int:\n",
    "        left = 0\n",
    "        ret = 0\n",
    "\n",
    "        for c in s:\n",
    "            if c == \"(\":\n",
    "                left += 1\n",
    "            else:\n",
    "                if left > 0:\n",
    "                    left -= 1\n",
    "                else:\n",
    "                    ret += 1\n",
    "\n",
    "        return left + ret"
   ]
  }
 ],
 "metadata": {
  "language_info": {
   "name": "python"
  }
 },
 "nbformat": 4,
 "nbformat_minor": 2
}
