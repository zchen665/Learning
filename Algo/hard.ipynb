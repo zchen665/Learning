{
 "cells": [
  {
   "cell_type": "markdown",
   "metadata": {},
   "source": [
    "135. Candy"
   ]
  },
  {
   "cell_type": "code",
   "execution_count": null,
   "metadata": {},
   "outputs": [],
   "source": [
    "# screen two times. from left to right and from right to left.\n",
    "class Solution:\n",
    "    def candy(self, ratings: List[int]) -> int:\n",
    "        ret = 1\n",
    "        tb = [1] * len(ratings)\n",
    "\n",
    "        for i in range(1,len(ratings)):\n",
    "            if ratings[i] > ratings[i-1]:\n",
    "                tb[i] = tb[i-1] + 1\n",
    "            else:\n",
    "                tb[i] = 1\n",
    "        # print(tb)\n",
    "        for i in range(len(ratings)-2,-1,-1):\n",
    "            if ratings[i] > ratings[i+1]:\n",
    "                tb[i] = max(tb[i],tb[i+1] + 1)\n",
    "            else:\n",
    "                tb[i] = max(tb[i],1)\n",
    "        # print(tb)\n",
    "        return sum(tb)"
   ]
  }
 ],
 "metadata": {
  "language_info": {
   "name": "python"
  }
 },
 "nbformat": 4,
 "nbformat_minor": 2
}
