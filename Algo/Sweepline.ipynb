{
 "cells": [
  {
   "cell_type": "markdown",
   "metadata": {},
   "source": [
    "Sweep line algo deals with intervals and intersections'\n",
    "\n",
    "here is a list of leetcode problems that's helpful to me: \n",
    "1. 1854: max population (https://leetcode.com/problems/maximum-population-year/)\n",
    "2. 253: meeting rooms II\n",
    "3. "
   ]
  },
  {
   "cell_type": "code",
   "execution_count": null,
   "metadata": {},
   "outputs": [],
   "source": [
    "# 1854, mark each birth (+ 1) and death (- 1) as seperate event:\n",
    "def maximumPopulation(logs: List[List[int]]) -> int:\n",
    "        line = [0] * 101\n",
    "\n",
    "        for log in logs:\n",
    "            line[log[0]-1950] += 1\n",
    "            line[log[1] - 1950] -= 1\n",
    "\n",
    "        ret,cur,year = 0,0,1950\n",
    "\n",
    "        for i,l in enumerate(line):\n",
    "            cur += l\n",
    "            if cur > ret:\n",
    "                ret,year = cur, 1950 + i\n",
    "        return year"
   ]
  },
  {
   "cell_type": "code",
   "execution_count": null,
   "metadata": {},
   "outputs": [],
   "source": [
    "# 253: meeting rooms II. this one is more interesting #\n",
    "\n",
    "## solution 1: this is the same approach taken with 1854\n",
    "def minMeetingRooms1(intervals: List[List[int]]) -> int:\n",
    "        table = defaultdict(int)\n",
    "\n",
    "        for data in intervals:\n",
    "            table[data[0]] += 1\n",
    "            table[data[1]] -= 1\n",
    "\n",
    "        cur,ret= 0,0\n",
    "\n",
    "        for k in sorted(table.keys()):\n",
    "            cur += table[k]\n",
    "            ret = max(cur,ret)\n",
    "        return ret\n",
    "\n",
    "## solution 2: this solution uses heap and it's very interesting:\n",
    "def minMeetingRooms2(logs: List[List[int]]) -> int:\n",
    "        hp = []\n",
    "        ret = 0\n",
    "        logs.sort(key=lambda x: x[0])\n",
    "        for log in logs:\n",
    "            if not hp:\n",
    "                heapq.heappush(hp, log[1])\n",
    "            else:\n",
    "                if hp[0] <= log[0]:\n",
    "                    heapq.heappop(hp)\n",
    "                heapq.heappush(hp,log[1])\n",
    "        return len(hp)\n"
   ]
  },
  {
   "cell_type": "code",
   "execution_count": null,
   "metadata": {},
   "outputs": [],
   "source": [
    "# 731 MyCalendar:\n",
    "# I initially trie to solve by checking if there are 2 events already by the end of targetting event. This is flawed because we don't know where current event lands.\n",
    "# the following solution checks by adding the event first and check if it triple books, if not then revert the event. \n",
    "def book(self, start: int, end: int) -> bool:\n",
    "        self.table[start] += 1\n",
    "        self.table[end]  -= 1\n",
    "        cur = 0\n",
    "        for entry in sorted(self.table.keys()):\n",
    "            if entry >= end:\n",
    "                break\n",
    "            cur += self.table[entry]\n",
    "            if cur > 2:\n",
    "                self.table[start] -= 1\n",
    "                self.table[end]  += 1\n",
    "                return False\n",
    "        return True"
   ]
  },
  {
   "cell_type": "code",
   "execution_count": null,
   "metadata": {},
   "outputs": [],
   "source": [
    "#370 range addition:\n",
    "def getModifiedArray(self, length: int, updates: List[List[int]]) -> List[int]:\n",
    "        mem = [0] * length\n",
    "\n",
    "        for log in updates:\n",
    "            mem[log[0]] += log[2]\n",
    "            if log[1] + 1 < length: \n",
    "                mem[log[1] + 1] -= log[2]\n",
    "        \n",
    "        ret = []\n",
    "        cur = 0\n",
    "        for m in mem:\n",
    "            cur += m\n",
    "            ret.append(cur)\n",
    "        return ret"
   ]
  },
  {
   "cell_type": "code",
   "execution_count": null,
   "metadata": {},
   "outputs": [],
   "source": [
    "# lc 2251: number of flowers in full bloom.\n",
    "# hard, databrick oa \n",
    "# only the ordering of the people takes some thourghts. \n",
    "from collections import defaultdict\n",
    "class Solution:\n",
    "    def fullBloomFlowers(self, flowers: List[List[int]], people: List[int]) -> List[int]:\n",
    "        l = defaultdict(int)\n",
    "        for f in flowers:\n",
    "            l[f[0]] += 1\n",
    "            l[f[1] + 1] -= 1\n",
    "\n",
    "        ret  =[]\n",
    "        p2 =[ (p,i) for i,p in enumerate(people)]\n",
    "        p2.sort(key = lambda x: x[0])\n",
    "        # print(p2)\n",
    "\n",
    "        cur = 0\n",
    "        curidx = 0\n",
    "        keys = sorted(l.keys())\n",
    "        ret = []\n",
    "\n",
    "        for p,i in p2:\n",
    "            while curidx < len(keys) and keys[curidx] <= p:\n",
    "                cur += l[keys[curidx]]\n",
    "                curidx += 1\n",
    "            ret.append([i,cur])\n",
    "        # print(ret)\n",
    "        ret= [_[1] for _ in sorted(ret, key = lambda x: x[0])]\n",
    "        return ret\n",
    "\n"
   ]
  }
 ],
 "metadata": {
  "language_info": {
   "name": "python"
  }
 },
 "nbformat": 4,
 "nbformat_minor": 2
}
